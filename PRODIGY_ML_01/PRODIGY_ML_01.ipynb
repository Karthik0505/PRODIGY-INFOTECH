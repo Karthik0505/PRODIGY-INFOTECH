{
 "cells": [
  {
   "cell_type": "markdown",
   "id": "d212cc30",
   "metadata": {},
   "source": [
    "# PRODIGY_ML_01"
   ]
  },
  {
   "cell_type": "markdown",
   "id": "607c23f0",
   "metadata": {},
   "source": [
    "Implement a linear regression model to predict the prices of houses based on their square footage and the number of bedrooms and bathrooms."
   ]
  },
  {
   "cell_type": "code",
   "execution_count": 78,
   "id": "78cc880b",
   "metadata": {},
   "outputs": [],
   "source": [
    "# Libraries\n",
    "\n",
    "import pandas as pd\n",
    "import numpy as np\n",
    "import matplotlib.pyplot as plt\n",
    "%matplotlib inline\n",
    "import seaborn as sns\n",
    "from sklearn import preprocessing\n",
    "\n",
    "\n",
    "import warnings\n",
    "warnings.filterwarnings('ignore')"
   ]
  },
  {
   "cell_type": "code",
   "execution_count": 79,
   "id": "e504d887",
   "metadata": {},
   "outputs": [],
   "source": [
    "data = pd.read_csv(r\"C:\\\\Users\\\\KARTHIK\\\\Downloads\\\\housing_price_dataset.csv\")"
   ]
  },
  {
   "cell_type": "code",
   "execution_count": 80,
   "id": "6b2c87a1",
   "metadata": {
    "scrolled": false
   },
   "outputs": [
    {
     "data": {
      "text/html": [
       "<div>\n",
       "<style scoped>\n",
       "    .dataframe tbody tr th:only-of-type {\n",
       "        vertical-align: middle;\n",
       "    }\n",
       "\n",
       "    .dataframe tbody tr th {\n",
       "        vertical-align: top;\n",
       "    }\n",
       "\n",
       "    .dataframe thead th {\n",
       "        text-align: right;\n",
       "    }\n",
       "</style>\n",
       "<table border=\"1\" class=\"dataframe\">\n",
       "  <thead>\n",
       "    <tr style=\"text-align: right;\">\n",
       "      <th></th>\n",
       "      <th>SquareFeet</th>\n",
       "      <th>Bedrooms</th>\n",
       "      <th>Bathrooms</th>\n",
       "      <th>Neighborhood</th>\n",
       "      <th>YearBuilt</th>\n",
       "      <th>Price</th>\n",
       "    </tr>\n",
       "  </thead>\n",
       "  <tbody>\n",
       "    <tr>\n",
       "      <th>0</th>\n",
       "      <td>2126</td>\n",
       "      <td>4</td>\n",
       "      <td>1</td>\n",
       "      <td>Rural</td>\n",
       "      <td>1969</td>\n",
       "      <td>215355.283618</td>\n",
       "    </tr>\n",
       "    <tr>\n",
       "      <th>1</th>\n",
       "      <td>2459</td>\n",
       "      <td>3</td>\n",
       "      <td>2</td>\n",
       "      <td>Rural</td>\n",
       "      <td>1980</td>\n",
       "      <td>195014.221626</td>\n",
       "    </tr>\n",
       "    <tr>\n",
       "      <th>2</th>\n",
       "      <td>1860</td>\n",
       "      <td>2</td>\n",
       "      <td>1</td>\n",
       "      <td>Suburb</td>\n",
       "      <td>1970</td>\n",
       "      <td>306891.012076</td>\n",
       "    </tr>\n",
       "    <tr>\n",
       "      <th>3</th>\n",
       "      <td>2294</td>\n",
       "      <td>2</td>\n",
       "      <td>1</td>\n",
       "      <td>Urban</td>\n",
       "      <td>1996</td>\n",
       "      <td>206786.787153</td>\n",
       "    </tr>\n",
       "    <tr>\n",
       "      <th>4</th>\n",
       "      <td>2130</td>\n",
       "      <td>5</td>\n",
       "      <td>2</td>\n",
       "      <td>Suburb</td>\n",
       "      <td>2001</td>\n",
       "      <td>272436.239065</td>\n",
       "    </tr>\n",
       "  </tbody>\n",
       "</table>\n",
       "</div>"
      ],
      "text/plain": [
       "   SquareFeet  Bedrooms  Bathrooms Neighborhood  YearBuilt          Price\n",
       "0        2126         4          1        Rural       1969  215355.283618\n",
       "1        2459         3          2        Rural       1980  195014.221626\n",
       "2        1860         2          1       Suburb       1970  306891.012076\n",
       "3        2294         2          1        Urban       1996  206786.787153\n",
       "4        2130         5          2       Suburb       2001  272436.239065"
      ]
     },
     "execution_count": 80,
     "metadata": {},
     "output_type": "execute_result"
    }
   ],
   "source": [
    "data.head(5)"
   ]
  },
  {
   "cell_type": "markdown",
   "id": "7ff3339b",
   "metadata": {},
   "source": [
    "### Extracting Necessary columns:"
   ]
  },
  {
   "cell_type": "code",
   "execution_count": 81,
   "id": "5104921b",
   "metadata": {},
   "outputs": [
    {
     "data": {
      "text/html": [
       "<div>\n",
       "<style scoped>\n",
       "    .dataframe tbody tr th:only-of-type {\n",
       "        vertical-align: middle;\n",
       "    }\n",
       "\n",
       "    .dataframe tbody tr th {\n",
       "        vertical-align: top;\n",
       "    }\n",
       "\n",
       "    .dataframe thead th {\n",
       "        text-align: right;\n",
       "    }\n",
       "</style>\n",
       "<table border=\"1\" class=\"dataframe\">\n",
       "  <thead>\n",
       "    <tr style=\"text-align: right;\">\n",
       "      <th></th>\n",
       "      <th>SquareFeet</th>\n",
       "      <th>Bedrooms</th>\n",
       "      <th>Bathrooms</th>\n",
       "      <th>Price</th>\n",
       "    </tr>\n",
       "  </thead>\n",
       "  <tbody>\n",
       "    <tr>\n",
       "      <th>0</th>\n",
       "      <td>2126</td>\n",
       "      <td>4</td>\n",
       "      <td>1</td>\n",
       "      <td>215355.283618</td>\n",
       "    </tr>\n",
       "    <tr>\n",
       "      <th>1</th>\n",
       "      <td>2459</td>\n",
       "      <td>3</td>\n",
       "      <td>2</td>\n",
       "      <td>195014.221626</td>\n",
       "    </tr>\n",
       "    <tr>\n",
       "      <th>2</th>\n",
       "      <td>1860</td>\n",
       "      <td>2</td>\n",
       "      <td>1</td>\n",
       "      <td>306891.012076</td>\n",
       "    </tr>\n",
       "    <tr>\n",
       "      <th>3</th>\n",
       "      <td>2294</td>\n",
       "      <td>2</td>\n",
       "      <td>1</td>\n",
       "      <td>206786.787153</td>\n",
       "    </tr>\n",
       "    <tr>\n",
       "      <th>4</th>\n",
       "      <td>2130</td>\n",
       "      <td>5</td>\n",
       "      <td>2</td>\n",
       "      <td>272436.239065</td>\n",
       "    </tr>\n",
       "  </tbody>\n",
       "</table>\n",
       "</div>"
      ],
      "text/plain": [
       "   SquareFeet  Bedrooms  Bathrooms          Price\n",
       "0        2126         4          1  215355.283618\n",
       "1        2459         3          2  195014.221626\n",
       "2        1860         2          1  306891.012076\n",
       "3        2294         2          1  206786.787153\n",
       "4        2130         5          2  272436.239065"
      ]
     },
     "execution_count": 81,
     "metadata": {},
     "output_type": "execute_result"
    }
   ],
   "source": [
    "df = data[['SquareFeet','Bedrooms','Bathrooms','Price']]\n",
    "df.head(5)"
   ]
  },
  {
   "cell_type": "code",
   "execution_count": 82,
   "id": "00c5a809",
   "metadata": {},
   "outputs": [
    {
     "data": {
      "text/plain": [
       "SquareFeet    50000\n",
       "Bedrooms      50000\n",
       "Bathrooms     50000\n",
       "Price         50000\n",
       "dtype: int64"
      ]
     },
     "execution_count": 82,
     "metadata": {},
     "output_type": "execute_result"
    }
   ],
   "source": [
    "df.count()"
   ]
  },
  {
   "cell_type": "code",
   "execution_count": 83,
   "id": "e0017283",
   "metadata": {},
   "outputs": [
    {
     "data": {
      "text/plain": [
       "(50000, 4)"
      ]
     },
     "execution_count": 83,
     "metadata": {},
     "output_type": "execute_result"
    }
   ],
   "source": [
    "df.shape"
   ]
  },
  {
   "cell_type": "code",
   "execution_count": 84,
   "id": "07de3b28",
   "metadata": {},
   "outputs": [
    {
     "data": {
      "text/html": [
       "<div>\n",
       "<style scoped>\n",
       "    .dataframe tbody tr th:only-of-type {\n",
       "        vertical-align: middle;\n",
       "    }\n",
       "\n",
       "    .dataframe tbody tr th {\n",
       "        vertical-align: top;\n",
       "    }\n",
       "\n",
       "    .dataframe thead th {\n",
       "        text-align: right;\n",
       "    }\n",
       "</style>\n",
       "<table border=\"1\" class=\"dataframe\">\n",
       "  <thead>\n",
       "    <tr style=\"text-align: right;\">\n",
       "      <th></th>\n",
       "      <th>SquareFeet</th>\n",
       "      <th>Bedrooms</th>\n",
       "      <th>Bathrooms</th>\n",
       "      <th>Price</th>\n",
       "    </tr>\n",
       "  </thead>\n",
       "  <tbody>\n",
       "    <tr>\n",
       "      <th>count</th>\n",
       "      <td>50000.000000</td>\n",
       "      <td>50000.000000</td>\n",
       "      <td>50000.000000</td>\n",
       "      <td>50000.000000</td>\n",
       "    </tr>\n",
       "    <tr>\n",
       "      <th>mean</th>\n",
       "      <td>2006.374680</td>\n",
       "      <td>3.498700</td>\n",
       "      <td>1.995420</td>\n",
       "      <td>224827.325151</td>\n",
       "    </tr>\n",
       "    <tr>\n",
       "      <th>std</th>\n",
       "      <td>575.513241</td>\n",
       "      <td>1.116326</td>\n",
       "      <td>0.815851</td>\n",
       "      <td>76141.842966</td>\n",
       "    </tr>\n",
       "    <tr>\n",
       "      <th>min</th>\n",
       "      <td>1000.000000</td>\n",
       "      <td>2.000000</td>\n",
       "      <td>1.000000</td>\n",
       "      <td>-36588.165397</td>\n",
       "    </tr>\n",
       "    <tr>\n",
       "      <th>25%</th>\n",
       "      <td>1513.000000</td>\n",
       "      <td>3.000000</td>\n",
       "      <td>1.000000</td>\n",
       "      <td>169955.860225</td>\n",
       "    </tr>\n",
       "    <tr>\n",
       "      <th>50%</th>\n",
       "      <td>2007.000000</td>\n",
       "      <td>3.000000</td>\n",
       "      <td>2.000000</td>\n",
       "      <td>225052.141166</td>\n",
       "    </tr>\n",
       "    <tr>\n",
       "      <th>75%</th>\n",
       "      <td>2506.000000</td>\n",
       "      <td>4.000000</td>\n",
       "      <td>3.000000</td>\n",
       "      <td>279373.630052</td>\n",
       "    </tr>\n",
       "    <tr>\n",
       "      <th>max</th>\n",
       "      <td>2999.000000</td>\n",
       "      <td>5.000000</td>\n",
       "      <td>3.000000</td>\n",
       "      <td>492195.259972</td>\n",
       "    </tr>\n",
       "  </tbody>\n",
       "</table>\n",
       "</div>"
      ],
      "text/plain": [
       "         SquareFeet      Bedrooms     Bathrooms          Price\n",
       "count  50000.000000  50000.000000  50000.000000   50000.000000\n",
       "mean    2006.374680      3.498700      1.995420  224827.325151\n",
       "std      575.513241      1.116326      0.815851   76141.842966\n",
       "min     1000.000000      2.000000      1.000000  -36588.165397\n",
       "25%     1513.000000      3.000000      1.000000  169955.860225\n",
       "50%     2007.000000      3.000000      2.000000  225052.141166\n",
       "75%     2506.000000      4.000000      3.000000  279373.630052\n",
       "max     2999.000000      5.000000      3.000000  492195.259972"
      ]
     },
     "execution_count": 84,
     "metadata": {},
     "output_type": "execute_result"
    }
   ],
   "source": [
    "df.describe()"
   ]
  },
  {
   "cell_type": "markdown",
   "id": "9c3818f6",
   "metadata": {},
   "source": [
    "### Missingness Evaluation :"
   ]
  },
  {
   "cell_type": "code",
   "execution_count": 85,
   "id": "3151c98a",
   "metadata": {},
   "outputs": [
    {
     "data": {
      "text/plain": [
       "SquareFeet    0\n",
       "Bedrooms      0\n",
       "Bathrooms     0\n",
       "Price         0\n",
       "dtype: int64"
      ]
     },
     "execution_count": 85,
     "metadata": {},
     "output_type": "execute_result"
    }
   ],
   "source": [
    "df.isnull().sum()"
   ]
  },
  {
   "cell_type": "markdown",
   "id": "7de36410",
   "metadata": {},
   "source": [
    "### Exploratory Data Analysis :"
   ]
  },
  {
   "cell_type": "code",
   "execution_count": 86,
   "id": "e63beb26",
   "metadata": {},
   "outputs": [
    {
     "data": {
      "text/html": [
       "<div>\n",
       "<style scoped>\n",
       "    .dataframe tbody tr th:only-of-type {\n",
       "        vertical-align: middle;\n",
       "    }\n",
       "\n",
       "    .dataframe tbody tr th {\n",
       "        vertical-align: top;\n",
       "    }\n",
       "\n",
       "    .dataframe thead th {\n",
       "        text-align: right;\n",
       "    }\n",
       "</style>\n",
       "<table border=\"1\" class=\"dataframe\">\n",
       "  <thead>\n",
       "    <tr style=\"text-align: right;\">\n",
       "      <th></th>\n",
       "      <th>SquareFeet</th>\n",
       "      <th>Bedrooms</th>\n",
       "      <th>Bathrooms</th>\n",
       "      <th>Price</th>\n",
       "    </tr>\n",
       "  </thead>\n",
       "  <tbody>\n",
       "    <tr>\n",
       "      <th>SquareFeet</th>\n",
       "      <td>1.000000</td>\n",
       "      <td>-0.002638</td>\n",
       "      <td>-0.003275</td>\n",
       "      <td>0.750720</td>\n",
       "    </tr>\n",
       "    <tr>\n",
       "      <th>Bedrooms</th>\n",
       "      <td>-0.002638</td>\n",
       "      <td>1.000000</td>\n",
       "      <td>0.007405</td>\n",
       "      <td>0.072624</td>\n",
       "    </tr>\n",
       "    <tr>\n",
       "      <th>Bathrooms</th>\n",
       "      <td>-0.003275</td>\n",
       "      <td>0.007405</td>\n",
       "      <td>1.000000</td>\n",
       "      <td>0.028418</td>\n",
       "    </tr>\n",
       "    <tr>\n",
       "      <th>Price</th>\n",
       "      <td>0.750720</td>\n",
       "      <td>0.072624</td>\n",
       "      <td>0.028418</td>\n",
       "      <td>1.000000</td>\n",
       "    </tr>\n",
       "  </tbody>\n",
       "</table>\n",
       "</div>"
      ],
      "text/plain": [
       "            SquareFeet  Bedrooms  Bathrooms     Price\n",
       "SquareFeet    1.000000 -0.002638  -0.003275  0.750720\n",
       "Bedrooms     -0.002638  1.000000   0.007405  0.072624\n",
       "Bathrooms    -0.003275  0.007405   1.000000  0.028418\n",
       "Price         0.750720  0.072624   0.028418  1.000000"
      ]
     },
     "execution_count": 86,
     "metadata": {},
     "output_type": "execute_result"
    }
   ],
   "source": [
    "# correlation matrix\n",
    "\n",
    "corr_matrix = df.corr()\n",
    "corr_matrix"
   ]
  },
  {
   "cell_type": "markdown",
   "id": "629ee02d",
   "metadata": {},
   "source": [
    "### Reg plot"
   ]
  },
  {
   "cell_type": "code",
   "execution_count": 87,
   "id": "9c478181",
   "metadata": {},
   "outputs": [
    {
     "name": "stdout",
     "output_type": "stream",
     "text": [
      "Corelation:\n",
      "            SquareFeet    Price\n",
      "SquareFeet     1.00000  0.75072\n",
      "Price          0.75072  1.00000\n"
     ]
    },
    {
     "data": {
      "image/png": "[encoded data removed]",
      "text/plain": [
       "<Figure size 640x480 with 1 Axes>"
      ]
     },
     "metadata": {},
     "output_type": "display_data"
    }
   ],
   "source": [
    "#(i) squarefeet vs price\n",
    "\n",
    "sns.regplot(x='SquareFeet',y='Price',data=df,line_kws={\"color\":\"red\"})\n",
    "\n",
    "print(\"Corelation:\")\n",
    "print(df[['SquareFeet','Price']].corr())"
   ]
  },
  {
   "cell_type": "code",
   "execution_count": 88,
   "id": "d3c5b276",
   "metadata": {},
   "outputs": [
    {
     "name": "stdout",
     "output_type": "stream",
     "text": [
      "Corelation:\n",
      "          Bedrooms     Price\n",
      "Bedrooms  1.000000  0.072624\n",
      "Price     0.072624  1.000000\n"
     ]
    },
    {
     "data": {
      "image/png": "[encoded data removed]",
      "text/plain": [
       "<Figure size 640x480 with 1 Axes>"
      ]
     },
     "metadata": {},
     "output_type": "display_data"
    }
   ],
   "source": [
    "#(ii) Bedrooms vs Price\n",
    "\n",
    "sns.regplot(x='Bedrooms',y='Price',data=df,line_kws={\"color\":\"red\"})\n",
    "print(\"Corelation:\")\n",
    "print(df[['Bedrooms','Price']].corr())"
   ]
  },
  {
   "cell_type": "code",
   "execution_count": 89,
   "id": "8ae45ca6",
   "metadata": {},
   "outputs": [
    {
     "name": "stdout",
     "output_type": "stream",
     "text": [
      "Corelation:\n",
      "           Bathrooms     Price\n",
      "Bathrooms   1.000000  0.028418\n",
      "Price       0.028418  1.000000\n"
     ]
    },
    {
     "data": {
      "image/png": "[encoded data removed]",
      "text/plain": [
       "<Figure size 640x480 with 1 Axes>"
      ]
     },
     "metadata": {},
     "output_type": "display_data"
    }
   ],
   "source": [
    "#(ii) Bathrooms vs Price\n",
    "\n",
    "sns.regplot(x='Bathrooms',y='Price',data=df,line_kws={\"color\":\"red\"})\n",
    "print(\"Corelation:\")\n",
    "print(df[['Bathrooms','Price']].corr())"
   ]
  },
  {
   "cell_type": "markdown",
   "id": "dbee07de",
   "metadata": {},
   "source": [
    "### Correlation and Causation :"
   ]
  },
  {
   "cell_type": "code",
   "execution_count": 90,
   "id": "7e1907d2",
   "metadata": {},
   "outputs": [],
   "source": [
    "from scipy import stats"
   ]
  },
  {
   "cell_type": "code",
   "execution_count": 91,
   "id": "0d2cb549",
   "metadata": {},
   "outputs": [
    {
     "name": "stdout",
     "output_type": "stream",
     "text": [
      "The Pearson Correlation is 0.7507197856708842  with a p-value of p= 0.0\n"
     ]
    }
   ],
   "source": [
    "# (i) SquareFeet vs Price\n",
    "\n",
    "pearson_coef, p_value = stats.pearsonr(df['SquareFeet'],df['Price'])\n",
    "print(\"The Pearson Correlation is\",pearson_coef,\" with a p-value of p=\",p_value)"
   ]
  },
  {
   "cell_type": "markdown",
   "id": "8c5c9467",
   "metadata": {},
   "source": [
    "#### Conclusion :\n",
    "        * Since p-value<0.001\n",
    "        * Therefore there is strong evidence that SquareFeet and Price are statistically significant.\n",
    "        * Linear relationship quite strong."
   ]
  },
  {
   "cell_type": "code",
   "execution_count": 92,
   "id": "0ada89a3",
   "metadata": {},
   "outputs": [
    {
     "name": "stdout",
     "output_type": "stream",
     "text": [
      "The Pearson Correlation is 0.07262393204089636  with a p-value of p= 1.8889710021257402e-59\n"
     ]
    }
   ],
   "source": [
    "# (ii) Bedrooms vs Price\n",
    "\n",
    "pearson_coef, p_value = stats.pearsonr(df['Bedrooms'],df['Price'])\n",
    "print(\"The Pearson Correlation is\",pearson_coef,\" with a p-value of p=\",p_value)"
   ]
  },
  {
   "cell_type": "markdown",
   "id": "3b3b7157",
   "metadata": {},
   "source": [
    "#### Conclusion :\n",
    "        * Since p-value<0.001\n",
    "        * Therefore there is strong evidence that SquareFeet and Price are statistically significant.\n",
    "        * Although Linear relationship is not strong."
   ]
  },
  {
   "cell_type": "code",
   "execution_count": 93,
   "id": "f126e8d4",
   "metadata": {},
   "outputs": [
    {
     "name": "stdout",
     "output_type": "stream",
     "text": [
      "The Pearson Correlation is 0.02841764814765268  with a p-value of p= 2.0774452963500685e-10\n"
     ]
    }
   ],
   "source": [
    "# (iii) Bathrooms vs Price\n",
    "\n",
    "pearson_coef, p_value = stats.pearsonr(df['Bathrooms'],df['Price'])\n",
    "print(\"The Pearson Correlation is\",pearson_coef,\" with a p-value of p=\",p_value)"
   ]
  },
  {
   "cell_type": "markdown",
   "id": "ce5697a3",
   "metadata": {},
   "source": [
    "#### Conclusion :\n",
    "        * Since p-value<0.001\n",
    "        * Therefore there is strong evidence that SquareFeet and Price are statistically significant.\n",
    "        * Although Linear relationship not strong."
   ]
  },
  {
   "cell_type": "markdown",
   "id": "a9b15227",
   "metadata": {},
   "source": [
    "### Heatmap :"
   ]
  },
  {
   "cell_type": "code",
   "execution_count": 94,
   "id": "e47d64ad",
   "metadata": {},
   "outputs": [
    {
     "data": {
      "text/plain": [
       "<AxesSubplot:>"
      ]
     },
     "execution_count": 94,
     "metadata": {},
     "output_type": "execute_result"
    },
    {
     "data": {
      "image/png": "[encoded data removed]",
      "text/plain": [
       "<Figure size 640x480 with 2 Axes>"
      ]
     },
     "metadata": {},
     "output_type": "display_data"
    }
   ],
   "source": [
    "sns.heatmap(corr_matrix,annot=True,cmap='coolwarm',vmin=-1,vmax=1)"
   ]
  },
  {
   "cell_type": "markdown",
   "id": "39a4bfce",
   "metadata": {},
   "source": [
    "### Model Development :"
   ]
  },
  {
   "cell_type": "code",
   "execution_count": 95,
   "id": "785941b2",
   "metadata": {},
   "outputs": [],
   "source": [
    "from sklearn import linear_model\n",
    "from sklearn.model_selection import train_test_split\n",
    "from sklearn.preprocessing import StandardScaler"
   ]
  },
  {
   "cell_type": "code",
   "execution_count": 96,
   "id": "cfa456f3",
   "metadata": {},
   "outputs": [],
   "source": [
    "x = df[['SquareFeet','Bedrooms','Bathrooms']]\n",
    "y = df[['Price']]"
   ]
  },
  {
   "cell_type": "code",
   "execution_count": 97,
   "id": "a5185675",
   "metadata": {},
   "outputs": [],
   "source": [
    "# Normalize features\n",
    "\n",
    "scaler = StandardScaler()\n",
    "x= scaler.fit_transform(x)"
   ]
  },
  {
   "cell_type": "code",
   "execution_count": 98,
   "id": "cc7cb6cb",
   "metadata": {},
   "outputs": [],
   "source": [
    "# Train Test Split\n",
    "\n",
    "x_train,x_test,y_train,y_test = train_test_split(x,y,test_size=0.2,random_state=4)"
   ]
  },
  {
   "cell_type": "code",
   "execution_count": 99,
   "id": "735f3ab2",
   "metadata": {},
   "outputs": [
    {
     "name": "stdout",
     "output_type": "stream",
     "text": [
      "Training set:  (40000, 3) (40000, 1)\n",
      "Testing set:  (10000, 3) (10000, 1)\n"
     ]
    }
   ],
   "source": [
    "print(\"Training set: \",x_train.shape,y_train.shape)\n",
    "print(\"Testing set: \",x_test.shape,y_test.shape)"
   ]
  },
  {
   "cell_type": "code",
   "execution_count": 100,
   "id": "f8721e3e",
   "metadata": {},
   "outputs": [
    {
     "name": "stdout",
     "output_type": "stream",
     "text": [
      "Intercept:  [224878.31925467]\n",
      "Slope:  [[57322.15631229  5674.16535256  2287.615717  ]]\n"
     ]
    }
   ],
   "source": [
    "# Fit\n",
    "\n",
    "model=linear_model.LinearRegression()\n",
    "model.fit(x_train,y_train)\n",
    "\n",
    "print(\"Intercept: \",model.intercept_)\n",
    "print(\"Slope: \",model.coef_)"
   ]
  },
  {
   "cell_type": "code",
   "execution_count": 101,
   "id": "2250c877",
   "metadata": {},
   "outputs": [],
   "source": [
    "y_hat = model.predict(x_test)"
   ]
  },
  {
   "cell_type": "markdown",
   "id": "df3d73c9",
   "metadata": {},
   "source": [
    "### Predicted Values :"
   ]
  },
  {
   "cell_type": "code",
   "execution_count": 102,
   "id": "cabf5964",
   "metadata": {},
   "outputs": [
    {
     "data": {
      "text/plain": [
       "array([[245031.61787871],\n",
       "       [126815.00728295],\n",
       "       [207665.45495278],\n",
       "       [284972.34017301],\n",
       "       [198100.38438234]])"
      ]
     },
     "execution_count": 102,
     "metadata": {},
     "output_type": "execute_result"
    }
   ],
   "source": [
    "y_hat[0:5]"
   ]
  },
  {
   "cell_type": "markdown",
   "id": "b9d4d948",
   "metadata": {},
   "source": [
    "### Actual Values :"
   ]
  },
  {
   "cell_type": "code",
   "execution_count": 103,
   "id": "b7074e7b",
   "metadata": {},
   "outputs": [
    {
     "data": {
      "text/html": [
       "<div>\n",
       "<style scoped>\n",
       "    .dataframe tbody tr th:only-of-type {\n",
       "        vertical-align: middle;\n",
       "    }\n",
       "\n",
       "    .dataframe tbody tr th {\n",
       "        vertical-align: top;\n",
       "    }\n",
       "\n",
       "    .dataframe thead th {\n",
       "        text-align: right;\n",
       "    }\n",
       "</style>\n",
       "<table border=\"1\" class=\"dataframe\">\n",
       "  <thead>\n",
       "    <tr style=\"text-align: right;\">\n",
       "      <th></th>\n",
       "      <th>Price</th>\n",
       "    </tr>\n",
       "  </thead>\n",
       "  <tbody>\n",
       "    <tr>\n",
       "      <th>16477</th>\n",
       "      <td>284799.749382</td>\n",
       "    </tr>\n",
       "    <tr>\n",
       "      <th>5969</th>\n",
       "      <td>80398.114859</td>\n",
       "    </tr>\n",
       "    <tr>\n",
       "      <th>46459</th>\n",
       "      <td>263017.090128</td>\n",
       "    </tr>\n",
       "    <tr>\n",
       "      <th>33297</th>\n",
       "      <td>310995.113061</td>\n",
       "    </tr>\n",
       "    <tr>\n",
       "      <th>35047</th>\n",
       "      <td>241081.847555</td>\n",
       "    </tr>\n",
       "  </tbody>\n",
       "</table>\n",
       "</div>"
      ],
      "text/plain": [
       "               Price\n",
       "16477  284799.749382\n",
       "5969    80398.114859\n",
       "46459  263017.090128\n",
       "33297  310995.113061\n",
       "35047  241081.847555"
      ]
     },
     "execution_count": 103,
     "metadata": {},
     "output_type": "execute_result"
    }
   ],
   "source": [
    "y_test[0:5]"
   ]
  },
  {
   "cell_type": "markdown",
   "id": "ebc5dd14",
   "metadata": {},
   "source": [
    "### Model Evaluation :"
   ]
  },
  {
   "cell_type": "code",
   "execution_count": 104,
   "id": "c48b6f78",
   "metadata": {},
   "outputs": [],
   "source": [
    "from sklearn.metrics import r2_score\n",
    "from sklearn.model_selection import cross_val_score"
   ]
  },
  {
   "cell_type": "markdown",
   "id": "19c6ccb9",
   "metadata": {},
   "source": [
    "### r2_score"
   ]
  },
  {
   "cell_type": "code",
   "execution_count": 105,
   "id": "057d5438",
   "metadata": {},
   "outputs": [
    {
     "name": "stdout",
     "output_type": "stream",
     "text": [
      "Score:  0.567814249229099\n",
      "r2_score : 0.567814249229099\n"
     ]
    }
   ],
   "source": [
    "print(\"Score: \",model.score(x_test,y_test))\n",
    "print(\"r2_score :\",r2_score(y_test,y_hat))"
   ]
  },
  {
   "cell_type": "markdown",
   "id": "b6b590b4",
   "metadata": {},
   "source": [
    "### k fold cross validation\n"
   ]
  },
  {
   "cell_type": "code",
   "execution_count": 106,
   "id": "a3593f6e",
   "metadata": {},
   "outputs": [
    {
     "data": {
      "text/plain": [
       "array([0.56233773, 0.56996527, 0.57663303, 0.57099809])"
      ]
     },
     "execution_count": 106,
     "metadata": {},
     "output_type": "execute_result"
    }
   ],
   "source": [
    "Rcross = cross_val_score(model,df[['SquareFeet','Bedrooms','Bathrooms']],df[['Price']],cv=4)\n",
    "Rcross"
   ]
  },
  {
   "cell_type": "code",
   "execution_count": 108,
   "id": "2ef1b827",
   "metadata": {},
   "outputs": [
    {
     "name": "stdout",
     "output_type": "stream",
     "text": [
      "The mean of the folds are 0.5699835317471991 and the standard deviation is 0.005091752146737245\n"
     ]
    }
   ],
   "source": [
    "print(\"The mean of the folds are\", Rcross.mean(), \"and the standard deviation is\" , Rcross.std())"
   ]
  },
  {
   "cell_type": "code",
   "execution_count": null,
   "id": "f4cb06f7",
   "metadata": {},
   "outputs": [],
   "source": []
  }
 ],
 "metadata": {
  "kernelspec": {
   "display_name": "Python 3 (ipykernel)",
   "language": "python",
   "name": "python3"
  },
  "language_info": {
   "codemirror_mode": {
    "name": "ipython",
    "version": 3
   },
   "file_extension": ".py",
   "mimetype": "text/x-python",
   "name": "python",
   "nbconvert_exporter": "python",
   "pygments_lexer": "ipython3",
   "version": "3.9.13"
  }
 },
 "nbformat": 4,
 "nbformat_minor": 5
}
