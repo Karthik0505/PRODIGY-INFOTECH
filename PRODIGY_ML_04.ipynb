{
 "cells": [
  {
   "cell_type": "markdown",
   "id": "a937c43f",
   "metadata": {},
   "source": [
    "# PRODIGY_ML_04"
   ]
  },
  {
   "cell_type": "markdown",
   "id": "ce9c3ddf",
   "metadata": {},
   "source": [
    "Develop a hand gesture recognition model in macihne learning that can accurately identify and classify different hand gestures from image or video data, enabling intuitive human-computer interaction and gesture-based control systems."
   ]
  },
  {
   "cell_type": "markdown",
   "id": "f27a2f24",
   "metadata": {},
   "source": [
    "### Libraries :"
   ]
  },
  {
   "cell_type": "code",
   "execution_count": 29,
   "id": "71a6f3fd",
   "metadata": {},
   "outputs": [],
   "source": [
    "import os\n",
    "import numpy as np\n",
    "import matplotlib.pyplot as plt\n",
    "import cv2\n",
    "from keras.models import load_model\n",
    "\n",
    "from keras.models import Sequential\n",
    "from keras.layers import Conv2D, MaxPooling2D, Flatten, Dense, Dropout\n",
    "from keras.preprocessing.image import ImageDataGenerator"
   ]
  },
  {
   "cell_type": "markdown",
   "id": "1f17337e",
   "metadata": {},
   "source": [
    "### Dataset :"
   ]
  },
  {
   "cell_type": "code",
   "execution_count": 2,
   "id": "b5be2990",
   "metadata": {},
   "outputs": [],
   "source": [
    "train_dir = r'C:\\Users\\KARTHIK\\OneDrive\\Desktop\\ALL FILES\\RESUME\\train\\train'\n",
    "test_dir = r'C:\\Users\\KARTHIK\\OneDrive\\Desktop\\ALL FILES\\RESUME\\test\\test'"
   ]
  },
  {
   "cell_type": "markdown",
   "id": "99721450",
   "metadata": {},
   "source": [
    "### Preprocessing :"
   ]
  },
  {
   "cell_type": "code",
   "execution_count": 3,
   "id": "13e6781e",
   "metadata": {},
   "outputs": [],
   "source": [
    "# Data augmentation and normalization\n",
    "train_datagen = ImageDataGenerator(\n",
    "    rescale=1.0/255,\n",
    "    rotation_range=10,\n",
    "    zoom_range=0.1,\n",
    "    width_shift_range=0.1,\n",
    "    height_shift_range=0.1,\n",
    "    horizontal_flip=True\n",
    ")\n",
    "\n",
    "test_datagen = ImageDataGenerator(rescale=1.0/255)"
   ]
  },
  {
   "cell_type": "code",
   "execution_count": 4,
   "id": "bbe57954",
   "metadata": {},
   "outputs": [
    {
     "name": "stdout",
     "output_type": "stream",
     "text": [
      "Found 18000 images belonging to 20 classes.\n"
     ]
    }
   ],
   "source": [
    "# Load and preprocess the training data\n",
    "train_generator = train_datagen.flow_from_directory(\n",
    "    train_dir,\n",
    "    target_size=(64, 64),\n",
    "    batch_size=32,\n",
    "    class_mode='categorical'\n",
    ")"
   ]
  },
  {
   "cell_type": "code",
   "execution_count": 5,
   "id": "9ff87d65",
   "metadata": {},
   "outputs": [
    {
     "name": "stdout",
     "output_type": "stream",
     "text": [
      "Found 6000 images belonging to 20 classes.\n"
     ]
    }
   ],
   "source": [
    "# Load and preprocess the test data\n",
    "test_generator = test_datagen.flow_from_directory(\n",
    "    test_dir,\n",
    "    target_size=(64, 64),\n",
    "    batch_size=32,\n",
    "    class_mode='categorical'\n",
    ")"
   ]
  },
  {
   "cell_type": "markdown",
   "id": "2ef1f1d3",
   "metadata": {},
   "source": [
    "### Modeling :"
   ]
  },
  {
   "cell_type": "code",
   "execution_count": 6,
   "id": "dce5badd",
   "metadata": {},
   "outputs": [],
   "source": [
    "# Build the CNN model\n",
    "model = Sequential([\n",
    "    Conv2D(32, (3, 3), activation='relu', input_shape=(64, 64, 3)),\n",
    "    MaxPooling2D((2, 2)),\n",
    "    Conv2D(64, (3, 3), activation='relu'),\n",
    "    MaxPooling2D((2, 2)),\n",
    "    Conv2D(128, (3, 3), activation='relu'),\n",
    "    MaxPooling2D((2, 2)),\n",
    "    Flatten(),\n",
    "    Dense(128, activation='relu'),\n",
    "    Dropout(0.5),\n",
    "    Dense(train_generator.num_classes, activation='softmax')\n",
    "])\n",
    "\n",
    "model.compile(optimizer='adam', loss='categorical_crossentropy', metrics=['accuracy'])\n"
   ]
  },
  {
   "cell_type": "code",
   "execution_count": 7,
   "id": "cf8227ec",
   "metadata": {},
   "outputs": [
    {
     "name": "stdout",
     "output_type": "stream",
     "text": [
      "Epoch 1/50\n",
      "562/562 [==============================] - 174s 305ms/step - loss: 0.7945 - accuracy: 0.7380 - val_loss: 0.0042 - val_accuracy: 1.0000\n",
      "Epoch 2/50\n",
      "562/562 [==============================] - 67s 119ms/step - loss: 0.2180 - accuracy: 0.9265 - val_loss: 0.0074 - val_accuracy: 0.9993\n",
      "Epoch 3/50\n",
      "562/562 [==============================] - 142s 252ms/step - loss: 0.1491 - accuracy: 0.9502 - val_loss: 0.0074 - val_accuracy: 0.9988\n",
      "Epoch 4/50\n",
      "562/562 [==============================] - 173s 307ms/step - loss: 0.1203 - accuracy: 0.9600 - val_loss: 0.0054 - val_accuracy: 1.0000\n",
      "Epoch 5/50\n",
      "562/562 [==============================] - 70s 124ms/step - loss: 0.0906 - accuracy: 0.9692 - val_loss: 6.0253e-04 - val_accuracy: 1.0000\n",
      "Epoch 6/50\n",
      "562/562 [==============================] - 70s 124ms/step - loss: 0.0819 - accuracy: 0.9730 - val_loss: 0.0011 - val_accuracy: 0.9998\n",
      "Epoch 7/50\n",
      "562/562 [==============================] - 69s 122ms/step - loss: 0.0686 - accuracy: 0.9765 - val_loss: 0.0015 - val_accuracy: 0.9997\n",
      "Epoch 8/50\n",
      "562/562 [==============================] - 68s 121ms/step - loss: 0.0644 - accuracy: 0.9802 - val_loss: 3.9073e-05 - val_accuracy: 1.0000\n",
      "Epoch 9/50\n",
      "562/562 [==============================] - 68s 121ms/step - loss: 0.0638 - accuracy: 0.9789 - val_loss: 3.2166e-04 - val_accuracy: 1.0000\n",
      "Epoch 10/50\n",
      "562/562 [==============================] - 69s 123ms/step - loss: 0.0459 - accuracy: 0.9853 - val_loss: 3.9895e-04 - val_accuracy: 1.0000\n",
      "Epoch 11/50\n",
      "562/562 [==============================] - 72s 127ms/step - loss: 0.0454 - accuracy: 0.9856 - val_loss: 1.3064e-04 - val_accuracy: 1.0000\n",
      "Epoch 12/50\n",
      "562/562 [==============================] - 69s 123ms/step - loss: 0.0451 - accuracy: 0.9841 - val_loss: 3.3745e-04 - val_accuracy: 0.9998\n",
      "Epoch 13/50\n",
      "562/562 [==============================] - 68s 122ms/step - loss: 0.0382 - accuracy: 0.9878 - val_loss: 2.6690e-05 - val_accuracy: 1.0000\n",
      "Epoch 14/50\n",
      "562/562 [==============================] - 69s 123ms/step - loss: 0.0411 - accuracy: 0.9868 - val_loss: 0.0037 - val_accuracy: 0.9988\n",
      "Epoch 15/50\n",
      "562/562 [==============================] - 68s 121ms/step - loss: 0.0366 - accuracy: 0.9874 - val_loss: 5.6215e-05 - val_accuracy: 1.0000\n",
      "Epoch 16/50\n",
      "562/562 [==============================] - 68s 121ms/step - loss: 0.0333 - accuracy: 0.9885 - val_loss: 2.3312e-05 - val_accuracy: 1.0000\n",
      "Epoch 17/50\n",
      "562/562 [==============================] - 137s 243ms/step - loss: 0.0322 - accuracy: 0.9894 - val_loss: 7.5437e-04 - val_accuracy: 0.9998\n",
      "Epoch 18/50\n",
      "562/562 [==============================] - 139s 247ms/step - loss: 0.0337 - accuracy: 0.9890 - val_loss: 4.1444e-05 - val_accuracy: 1.0000\n",
      "Epoch 19/50\n",
      "562/562 [==============================] - 137s 243ms/step - loss: 0.0257 - accuracy: 0.9912 - val_loss: 2.5152e-06 - val_accuracy: 1.0000\n",
      "Epoch 20/50\n",
      "562/562 [==============================] - 143s 254ms/step - loss: 0.0273 - accuracy: 0.9912 - val_loss: 5.7243e-04 - val_accuracy: 0.9998\n",
      "Epoch 21/50\n",
      "562/562 [==============================] - 146s 259ms/step - loss: 0.0301 - accuracy: 0.9900 - val_loss: 3.0064e-06 - val_accuracy: 1.0000\n",
      "Epoch 22/50\n",
      "562/562 [==============================] - 139s 248ms/step - loss: 0.0247 - accuracy: 0.9917 - val_loss: 5.8814e-05 - val_accuracy: 1.0000\n",
      "Epoch 23/50\n",
      "562/562 [==============================] - 139s 247ms/step - loss: 0.0257 - accuracy: 0.9915 - val_loss: 1.5322e-05 - val_accuracy: 1.0000\n",
      "Epoch 24/50\n",
      "562/562 [==============================] - 140s 248ms/step - loss: 0.0222 - accuracy: 0.9926 - val_loss: 1.3291e-06 - val_accuracy: 1.0000\n",
      "Epoch 25/50\n",
      "562/562 [==============================] - 139s 248ms/step - loss: 0.0243 - accuracy: 0.9922 - val_loss: 1.3870e-06 - val_accuracy: 1.0000\n",
      "Epoch 26/50\n",
      "562/562 [==============================] - 132s 234ms/step - loss: 0.0237 - accuracy: 0.9923 - val_loss: 8.3730e-05 - val_accuracy: 1.0000\n",
      "Epoch 27/50\n",
      "562/562 [==============================] - 70s 124ms/step - loss: 0.0235 - accuracy: 0.9925 - val_loss: 9.6543e-06 - val_accuracy: 1.0000\n",
      "Epoch 28/50\n",
      "562/562 [==============================] - 68s 121ms/step - loss: 0.0220 - accuracy: 0.9927 - val_loss: 2.8718e-05 - val_accuracy: 1.0000\n",
      "Epoch 29/50\n",
      "562/562 [==============================] - 68s 120ms/step - loss: 0.0163 - accuracy: 0.9946 - val_loss: 6.2641e-05 - val_accuracy: 1.0000\n",
      "Epoch 30/50\n",
      "562/562 [==============================] - 68s 121ms/step - loss: 0.0208 - accuracy: 0.9937 - val_loss: 6.6823e-06 - val_accuracy: 1.0000\n",
      "Epoch 31/50\n",
      "562/562 [==============================] - 68s 121ms/step - loss: 0.0187 - accuracy: 0.9938 - val_loss: 3.8172e-05 - val_accuracy: 1.0000\n",
      "Epoch 32/50\n",
      "562/562 [==============================] - 68s 121ms/step - loss: 0.0214 - accuracy: 0.9936 - val_loss: 0.0032 - val_accuracy: 0.9985\n",
      "Epoch 33/50\n",
      "562/562 [==============================] - 68s 121ms/step - loss: 0.0175 - accuracy: 0.9942 - val_loss: 9.6020e-04 - val_accuracy: 0.9997\n",
      "Epoch 34/50\n",
      "562/562 [==============================] - 69s 123ms/step - loss: 0.0216 - accuracy: 0.9933 - val_loss: 7.2524e-05 - val_accuracy: 1.0000\n",
      "Epoch 35/50\n",
      "562/562 [==============================] - 69s 123ms/step - loss: 0.0138 - accuracy: 0.9951 - val_loss: 2.0110e-06 - val_accuracy: 1.0000\n",
      "Epoch 36/50\n",
      "562/562 [==============================] - 69s 122ms/step - loss: 0.0208 - accuracy: 0.9930 - val_loss: 4.9418e-06 - val_accuracy: 1.0000\n",
      "Epoch 37/50\n",
      "562/562 [==============================] - 84s 149ms/step - loss: 0.0172 - accuracy: 0.9940 - val_loss: 2.9403e-08 - val_accuracy: 1.0000\n",
      "Epoch 38/50\n",
      "562/562 [==============================] - 138s 245ms/step - loss: 0.0145 - accuracy: 0.9950 - val_loss: 2.3546e-04 - val_accuracy: 0.9998\n",
      "Epoch 39/50\n",
      "562/562 [==============================] - 140s 248ms/step - loss: 0.0152 - accuracy: 0.9953 - val_loss: 3.6435e-07 - val_accuracy: 1.0000\n",
      "Epoch 40/50\n",
      "562/562 [==============================] - 140s 249ms/step - loss: 0.0186 - accuracy: 0.9941 - val_loss: 2.2363e-07 - val_accuracy: 1.0000\n",
      "Epoch 41/50\n",
      "562/562 [==============================] - 158s 282ms/step - loss: 0.0200 - accuracy: 0.9943 - val_loss: 2.4423e-07 - val_accuracy: 1.0000\n",
      "Epoch 42/50\n",
      "562/562 [==============================] - 148s 263ms/step - loss: 0.0179 - accuracy: 0.9945 - val_loss: 8.1924e-05 - val_accuracy: 1.0000\n",
      "Epoch 43/50\n",
      "562/562 [==============================] - 144s 256ms/step - loss: 0.0167 - accuracy: 0.9954 - val_loss: 5.7068e-07 - val_accuracy: 1.0000\n",
      "Epoch 44/50\n",
      "562/562 [==============================] - 141s 250ms/step - loss: 0.0121 - accuracy: 0.9964 - val_loss: 8.8781e-06 - val_accuracy: 1.0000\n",
      "Epoch 45/50\n",
      "562/562 [==============================] - 144s 256ms/step - loss: 0.0125 - accuracy: 0.9956 - val_loss: 3.7596e-07 - val_accuracy: 1.0000\n",
      "Epoch 46/50\n",
      "562/562 [==============================] - 142s 253ms/step - loss: 0.0141 - accuracy: 0.9955 - val_loss: 1.4257e-05 - val_accuracy: 1.0000\n",
      "Epoch 47/50\n",
      "562/562 [==============================] - 73s 129ms/step - loss: 0.0122 - accuracy: 0.9959 - val_loss: 1.2546e-04 - val_accuracy: 1.0000\n",
      "Epoch 48/50\n",
      "562/562 [==============================] - 68s 122ms/step - loss: 0.0120 - accuracy: 0.9965 - val_loss: 5.7484e-04 - val_accuracy: 0.9995\n",
      "Epoch 49/50\n",
      "562/562 [==============================] - 69s 122ms/step - loss: 0.0144 - accuracy: 0.9955 - val_loss: 4.7951e-05 - val_accuracy: 1.0000\n",
      "Epoch 50/50\n",
      "562/562 [==============================] - 70s 124ms/step - loss: 0.0225 - accuracy: 0.9935 - val_loss: 0.0020 - val_accuracy: 0.9988\n"
     ]
    }
   ],
   "source": [
    "# Train the model\n",
    "history = model.fit(\n",
    "    train_generator,\n",
    "    steps_per_epoch=train_generator.samples // train_generator.batch_size,\n",
    "    epochs=50,\n",
    "    validation_data=test_generator,\n",
    "    validation_steps=test_generator.samples // test_generator.batch_size\n",
    ")\n"
   ]
  },
  {
   "cell_type": "markdown",
   "id": "af4997d1",
   "metadata": {},
   "source": [
    "### Testing :"
   ]
  },
  {
   "cell_type": "code",
   "execution_count": 8,
   "id": "4de1ed33",
   "metadata": {},
   "outputs": [
    {
     "name": "stdout",
     "output_type": "stream",
     "text": [
      "188/188 [==============================] - 5s 26ms/step - loss: 0.0020 - accuracy: 0.9988\n",
      "Test Accuracy: 99.88%\n"
     ]
    }
   ],
   "source": [
    "loss, accuracy = model.evaluate(test_generator)\n",
    "print(f'Test Accuracy: {accuracy * 100:.2f}%')"
   ]
  },
  {
   "cell_type": "code",
   "execution_count": 14,
   "id": "9b94cb5f",
   "metadata": {},
   "outputs": [],
   "source": [
    "model.save('hand_gesture_model.h5')"
   ]
  },
  {
   "cell_type": "markdown",
   "id": "6a174e15",
   "metadata": {},
   "source": [
    "### Predict :"
   ]
  },
  {
   "cell_type": "code",
   "execution_count": 30,
   "id": "01d0336f",
   "metadata": {},
   "outputs": [],
   "source": [
    "model = load_model('hand_gesture_model.h5')"
   ]
  },
  {
   "cell_type": "code",
   "execution_count": 31,
   "id": "6ce6c223",
   "metadata": {},
   "outputs": [],
   "source": [
    "class_labels = sorted(os.listdir(r'C:\\Users\\KARTHIK\\OneDrive\\Desktop\\ALL FILES\\RESUME\\train\\train'))"
   ]
  },
  {
   "cell_type": "code",
   "execution_count": 32,
   "id": "d11bd6b9",
   "metadata": {},
   "outputs": [],
   "source": [
    "\n",
    "def preprocess_image(img_path):\n",
    "    img = cv2.imread(img_path)\n",
    "    if img is None:\n",
    "        raise ValueError(f\"Image not found or unable to read: {img_path}\")\n",
    "    \n",
    "    plt.imshow(cv2.cvtColor(img, cv2.COLOR_BGR2RGB))\n",
    "    plt.title('Input Image')\n",
    "    plt.axis('off')\n",
    "    plt.show()\n",
    "\n",
    "    img = cv2.resize(img, (64, 64))\n",
    "    img = img / 255.0  # Normalize the image\n",
    "    img = np.expand_dims(img, axis=0)  # Add batch dimension\n",
    "    return img\n"
   ]
  },
  {
   "cell_type": "code",
   "execution_count": 33,
   "id": "eca48c15",
   "metadata": {},
   "outputs": [],
   "source": [
    "def predict_gesture(img_path, model):\n",
    "    \"\"\"\n",
    "    Predict the gesture from the image using the trained model.\n",
    "    \"\"\"\n",
    "    img = preprocess_image(img_path)\n",
    "    prediction = model.predict(img)\n",
    "    predicted_class = np.argmax(prediction)\n",
    "    predicted_label = class_labels[predicted_class]\n",
    "    return predicted_label"
   ]
  },
  {
   "cell_type": "code",
   "execution_count": 34,
   "id": "8f978fbe",
   "metadata": {},
   "outputs": [
    {
     "name": "stdout",
     "output_type": "stream",
     "text": [
      "Checking if image exists at: C:\\Users\\KARTHIK\\OneDrive\\Desktop\\ALL FILES\\RESUME\\test\\test\\3\\903.jpg\n"
     ]
    },
    {
     "data": {
      "image/png": "[encoded data removed]",
      "text/plain": [
       "<Figure size 640x480 with 1 Axes>"
      ]
     },
     "metadata": {},
     "output_type": "display_data"
    },
    {
     "name": "stdout",
     "output_type": "stream",
     "text": [
      "1/1 [==============================] - 0s 100ms/step\n",
      "Predicted Gesture: 3\n"
     ]
    }
   ],
   "source": [
    "image_path = r\"C:\\Users\\KARTHIK\\OneDrive\\Desktop\\ALL FILES\\RESUME\\test\\test\\3\\903.jpg\"  # Replace with the path to the user-provided image\n",
    "print(f\"Checking if image exists at: {image_path}\")\n",
    "\n",
    "predicted_gesture = predict_gesture(image_path, model)\n",
    "print(f'Predicted Gesture: {predicted_gesture}')\n"
   ]
  }
 ],
 "metadata": {
  "kernelspec": {
   "display_name": "Python 3 (ipykernel)",
   "language": "python",
   "name": "python3"
  },
  "language_info": {
   "codemirror_mode": {
    "name": "ipython",
    "version": 3
   },
   "file_extension": ".py",
   "mimetype": "text/x-python",
   "name": "python",
   "nbconvert_exporter": "python",
   "pygments_lexer": "ipython3",
   "version": "3.9.13"
  }
 },
 "nbformat": 4,
 "nbformat_minor": 5
}
